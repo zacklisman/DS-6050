{
 "cells": [
  {
   "cell_type": "markdown",
   "metadata": {},
   "source": [
    "[![open in Colab](https://colab.research.google.com/assets/colab-badge.svg)](https://colab.research.google.com/github/UVA-DS-6050/DS6050---FA24/blob/main/live_sessions/module-1/Module_1_Live_Coding_Session_Template.ipynb)"
   ]
  },
  {
   "cell_type": "markdown",
   "metadata": {
    "id": "pTE9UCelQqko"
   },
   "source": [
    "# Introduction\n",
    "\n",
    "In this session, we will explore different tensor operations using a dummy dataset. We will look at the different API in tensorflow and keras to build some familiarity with using them.\n",
    "\n"
   ]
  },
  {
   "cell_type": "markdown",
   "metadata": {
    "id": "AH8d2_eAQ_4H"
   },
   "source": [
    "### Step 1: Configure the environment\n",
    "- Installing and loading required modules\n"
   ]
  },
  {
   "cell_type": "code",
   "execution_count": null,
   "metadata": {
    "id": "4MPiWD1Hjztv"
   },
   "outputs": [],
   "source": [
    "# !pip install keras\n",
    "# !pip install tensorflow\n",
    "import numpy as np\n",
    "import tensorflow as tf\n",
    "import keras"
   ]
  },
  {
   "cell_type": "markdown",
   "metadata": {
    "id": "Yq7JASuPjztx"
   },
   "source": [
    "### Step 2: Load Sample Dataset"
   ]
  },
  {
   "cell_type": "code",
   "execution_count": null,
   "metadata": {
    "id": "YdSygw7fcHRW"
   },
   "outputs": [],
   "source": []
  },
  {
   "cell_type": "code",
   "execution_count": null,
   "metadata": {
    "id": "YOPYUOjTjzty"
   },
   "outputs": [],
   "source": []
  },
  {
   "cell_type": "code",
   "execution_count": null,
   "metadata": {
    "id": "srXYTJgFH4Wj"
   },
   "outputs": [],
   "source": [
    "# Explore the data\n"
   ]
  },
  {
   "cell_type": "markdown",
   "metadata": {
    "id": "iMHi-iJ5jzty"
   },
   "source": [
    "### Tensors\n",
    "Tensorflow operates on multidimensional arrays or tensors represented as tf.Tensor objects. All tensors are immutable like Python numbers and strings i.e. you cannot update the contents of a tensor, you can only create a new one. Here's an example of a two-dimensional tensor:"
   ]
  },
  {
   "cell_type": "code",
   "execution_count": null,
   "metadata": {
    "id": "sXcr1rQrjztz"
   },
   "outputs": [],
   "source": [
    "# Zero-rank tensor\n"
   ]
  },
  {
   "cell_type": "code",
   "execution_count": null,
   "metadata": {
    "id": "_q2SU68kjztz",
    "outputId": "eeb0bf4e-9aa3-4b01-f5e9-8eb5c466ffe5"
   },
   "outputs": [
    {
     "data": {
      "text/plain": [
       "1"
      ]
     },
     "execution_count": 55,
     "metadata": {},
     "output_type": "execute_result"
    }
   ],
   "source": [
    "# Rank-1 tensor"
   ]
  },
  {
   "cell_type": "code",
   "execution_count": null,
   "metadata": {
    "id": "UVZJ8Ojyjztz"
   },
   "outputs": [],
   "source": [
    "# Create a 2-rank tensor\n"
   ]
  },
  {
   "cell_type": "code",
   "execution_count": null,
   "metadata": {
    "id": "tinp5rJEjzt0"
   },
   "outputs": [],
   "source": [
    "# Create a tensor object with random numbers and print shape and data type\n"
   ]
  },
  {
   "cell_type": "code",
   "execution_count": null,
   "metadata": {
    "id": "X_aAKdGpjzt0"
   },
   "outputs": [],
   "source": [
    "# Tensorflow objects are immuntable\n"
   ]
  },
  {
   "cell_type": "markdown",
   "metadata": {
    "id": "RNkXTuiijzt0"
   },
   "source": [
    "![Scala, Vector and Matrices](0-2_rank_tensors.png)"
   ]
  },
  {
   "cell_type": "markdown",
   "metadata": {
    "id": "bzYCmxBajzt0"
   },
   "source": [
    "![3-rank-tensorf](3-rank-tensor.png)"
   ]
  },
  {
   "cell_type": "markdown",
   "metadata": {
    "id": "P5IKLgRLjzt0"
   },
   "source": [
    "![Order of Axis](axis-order.png)"
   ]
  },
  {
   "cell_type": "markdown",
   "metadata": {
    "id": "ChL0sAsCjzt0"
   },
   "source": [
    "#### String Tensors\n",
    "Tensorflow string is a dtype, which represents data as strings. String tensors are atomic and cannot be indexed the way Python strings are. The length of the string is not one of the axes of the tensor."
   ]
  },
  {
   "cell_type": "code",
   "execution_count": null,
   "metadata": {
    "id": "sSRx9Qzrjzt1",
    "outputId": "3ba5513d-b8bd-4458-a1cb-c634bec055da"
   },
   "outputs": [
    {
     "name": "stdout",
     "output_type": "stream",
     "text": [
      "tf.Tensor(b'data science', shape=(), dtype=string)\n"
     ]
    }
   ],
   "source": [
    "# Scalar string tensor"
   ]
  },
  {
   "cell_type": "code",
   "execution_count": null,
   "metadata": {
    "id": "5iUem9afjzt1"
   },
   "outputs": [],
   "source": [
    "# Vector string\n"
   ]
  },
  {
   "cell_type": "markdown",
   "metadata": {
    "id": "rjLyBD7Ijzt1"
   },
   "source": [
    "### Basic Tensor Operations\n",
    "Tensorflow implements mathematical operations on tensors, as well as many operations specialized for machine learning and deep learning. See examples below:"
   ]
  },
  {
   "cell_type": "code",
   "execution_count": null,
   "metadata": {
    "id": "wXyslH53jzt1"
   },
   "outputs": [],
   "source": [
    "# element-wise addition of two tensors\n"
   ]
  },
  {
   "cell_type": "code",
   "execution_count": null,
   "metadata": {
    "id": "GF7LsDQSjzt1"
   },
   "outputs": [],
   "source": [
    "# adding tensors to a constant - broadcasting\n"
   ]
  },
  {
   "cell_type": "code",
   "execution_count": null,
   "metadata": {
    "id": "WVY15gcxjzt1"
   },
   "outputs": [],
   "source": [
    "# Adding tensors\n",
    "\n",
    "\n",
    "# element wise multiplication\n",
    "\n",
    "\n",
    "# matrix multiplication\n"
   ]
  },
  {
   "cell_type": "code",
   "execution_count": null,
   "metadata": {
    "id": "rZlsgO3qjzt2"
   },
   "outputs": [],
   "source": [
    "# matrix multiplication with transpose"
   ]
  },
  {
   "cell_type": "code",
   "execution_count": null,
   "metadata": {
    "id": "aeHXrYb3jzt2"
   },
   "outputs": [],
   "source": [
    "# Concatenating list of tensors"
   ]
  },
  {
   "cell_type": "code",
   "execution_count": null,
   "metadata": {
    "id": "JLY5hYjmjzt2"
   },
   "outputs": [],
   "source": [
    "# Apply exponential normalization (softmax activation) along an axis\n"
   ]
  },
  {
   "cell_type": "code",
   "execution_count": null,
   "metadata": {
    "id": "OoFKdQwQjzt2"
   },
   "outputs": [],
   "source": [
    "# Sum up all elements of the tensor or along an axis - applicable in Maxpool\n"
   ]
  },
  {
   "cell_type": "markdown",
   "metadata": {
    "id": "8XzEh-sKjzt2"
   },
   "source": [
    "Anywhere tensorflow function expects a Tensor as input, the function will also accept anything that can be converted to a Tensor using tf.convert_to_tensor."
   ]
  },
  {
   "cell_type": "code",
   "execution_count": null,
   "metadata": {
    "id": "bg0OjG1pjzt2"
   },
   "outputs": [],
   "source": [
    "# Convert a list object to tensor"
   ]
  },
  {
   "cell_type": "markdown",
   "metadata": {
    "id": "oIpUjjSVjzt2"
   },
   "source": [
    "This can also be done automatically with tensor operations"
   ]
  },
  {
   "cell_type": "code",
   "execution_count": null,
   "metadata": {
    "id": "7OvxuiV7jzt2"
   },
   "outputs": [],
   "source": []
  },
  {
   "cell_type": "markdown",
   "metadata": {
    "id": "3OZwgR_fjzt3"
   },
   "source": [
    "Running large calculations on CPU can be slow. Tensorflow can use accelerator hardware like GPUs to execute operations very quickly"
   ]
  },
  {
   "cell_type": "code",
   "execution_count": null,
   "metadata": {
    "id": "8Iy3JcFcjzt3"
   },
   "outputs": [],
   "source": []
  },
  {
   "cell_type": "markdown",
   "metadata": {
    "id": "CxdTf9cijzt3"
   },
   "source": [
    "#### Variables\n",
    "Normal tf.Tensor objects are immutable. To store model weights or other mutable states in Tensorflow use a tf.Variable"
   ]
  },
  {
   "cell_type": "code",
   "execution_count": null,
   "metadata": {
    "id": "pG56o756jzt3"
   },
   "outputs": [],
   "source": [
    "# Initialize a variable state\n"
   ]
  },
  {
   "cell_type": "code",
   "execution_count": null,
   "metadata": {
    "id": "89-uBpZJjzt3"
   },
   "outputs": [],
   "source": [
    "# Assign new value to the variable\n"
   ]
  },
  {
   "cell_type": "code",
   "execution_count": null,
   "metadata": {
    "id": "YfUrRfvnjzt3"
   },
   "outputs": [],
   "source": [
    "# Update variable\n"
   ]
  },
  {
   "cell_type": "markdown",
   "metadata": {
    "id": "7yOs0q6Tjzt3"
   },
   "source": [
    "#### Automatic Differentiation\n",
    "\n",
    "Gradient descent and related algorithms are a core of deep learning and modern machine learning.\n",
    "To enable this, Tensorflow implements automatic differentiation (autodiff), which uses calculus to compute gradients. Typically you'll use this to calculate the gradient of a model's error or loss with respect to it"
   ]
  },
  {
   "cell_type": "code",
   "execution_count": null,
   "metadata": {
    "id": "iDTA9zIijzt4"
   },
   "outputs": [],
   "source": [
    "# executing a function on a tensor\n"
   ]
  },
  {
   "cell_type": "markdown",
   "metadata": {
    "id": "1VTvDASijzt4"
   },
   "source": [
    "The derivative of the function $f(x)$ is $f'(x) = (2*x + 2) = 4$ Tensorflow can calculate this automatically"
   ]
  },
  {
   "cell_type": "code",
   "execution_count": null,
   "metadata": {
    "id": "0hoTE3rVjzt4"
   },
   "outputs": [],
   "source": [
    "# Calculating gradient with tensorflow\n"
   ]
  },
  {
   "cell_type": "markdown",
   "metadata": {
    "id": "cVkGZp-8jzt5"
   },
   "source": [
    "### Modules, Layers and models\n",
    "Though for the most of this course, we will be using the keras modules, here we will explore the Tensorflow module tf.Module class and tf.function for managing and operating on variable objects. The tf.Module supports two significant features:\n",
    "\n",
    "1. Saving and restoring the values of your variables using tf.train.Checkpoint. This is useful during training as it is quick to save and restore a model's state.\n",
    "2. Importing and exporting the tf.Variable values and the function (tf.function) graphs using tf.saved_model. This allows us to run model independently of the Python program that created it."
   ]
  },
  {
   "cell_type": "code",
   "execution_count": null,
   "metadata": {
    "id": "Ow1hF1oljzt5"
   },
   "outputs": [],
   "source": [
    "# Model Parameters initialization\n"
   ]
  },
  {
   "cell_type": "code",
   "execution_count": null,
   "metadata": {
    "id": "hrwZfx43jzt5"
   },
   "outputs": [],
   "source": [
    "# Forward pass\n"
   ]
  },
  {
   "cell_type": "markdown",
   "metadata": {
    "id": "Gj7ASTzwjzt5"
   },
   "source": [
    "To get the gradient of loss wrt both variables (weights and bias), we can pass both as sources to the gradient method."
   ]
  },
  {
   "cell_type": "code",
   "execution_count": null,
   "metadata": {
    "id": "y2Rq51ODjzt5"
   },
   "outputs": [],
   "source": [
    "# Gradient wrt each parameter\n"
   ]
  },
  {
   "cell_type": "markdown",
   "metadata": {
    "id": "bokxbW7wjzt5"
   },
   "source": [
    "The gradient wrt to each source variable has the same shape as the source variable"
   ]
  },
  {
   "cell_type": "markdown",
   "metadata": {
    "id": "uiwTTBTDjzt5"
   },
   "source": [
    "The tape is flexible on how sources are passed and can accept any nested combination of lists or dictionaries and return grandient structured the same way. We can also pass a dictionary of variables:"
   ]
  },
  {
   "cell_type": "code",
   "execution_count": null,
   "metadata": {
    "id": "1Zf9Lh-ajzt6"
   },
   "outputs": [],
   "source": [
    "# Varying input format for gradient calculation\n"
   ]
  },
  {
   "cell_type": "markdown",
   "metadata": {
    "id": "OwZLvuYujzt6"
   },
   "source": [
    "Creating a Module"
   ]
  },
  {
   "cell_type": "code",
   "execution_count": null,
   "metadata": {
    "id": "BYlkJ6uPjzt6"
   },
   "outputs": [],
   "source": []
  },
  {
   "cell_type": "markdown",
   "metadata": {
    "id": "eKtlG2bzjzt6"
   },
   "source": [
    "Saving Module"
   ]
  },
  {
   "cell_type": "code",
   "execution_count": null,
   "metadata": {
    "id": "msTXmbS3jzt6"
   },
   "outputs": [],
   "source": []
  },
  {
   "cell_type": "markdown",
   "metadata": {
    "id": "rLtNz9Lvjzt6"
   },
   "source": [
    "Reloading saved model"
   ]
  },
  {
   "cell_type": "code",
   "execution_count": null,
   "metadata": {
    "id": "2qWcVhQrjzt6"
   },
   "outputs": [],
   "source": []
  },
  {
   "cell_type": "markdown",
   "metadata": {
    "id": "CiB5qu7Sjzt6"
   },
   "source": [
    "The keras wrapper modules tf.keras.layers.Layer and tf.keras.Module classes build on tf.Module providing additional functionality and convenience methods for buillding, training and saving models."
   ]
  },
  {
   "cell_type": "code",
   "execution_count": null,
   "metadata": {
    "id": "pZdvI5Gljzt6"
   },
   "outputs": [],
   "source": [
    "# Define a single layer tf model\n",
    "\n"
   ]
  },
  {
   "cell_type": "code",
   "execution_count": null,
   "metadata": {
    "id": "5mUfbcnBjzt7"
   },
   "outputs": [],
   "source": [
    "# Define a loss\n"
   ]
  },
  {
   "cell_type": "markdown",
   "metadata": {
    "id": "5pouW4ZWjzt7"
   },
   "source": [
    "Define a basic training loop for the model. The loop makes use of MSE loss function and its gradients wrt the input in order to iteratively update the models parameters. The tf.data.Dataset API provides useful function for batching and shuffling."
   ]
  },
  {
   "cell_type": "code",
   "execution_count": null,
   "metadata": {
    "id": "hsZ65ltSjzt7"
   },
   "outputs": [],
   "source": []
  },
  {
   "cell_type": "code",
   "execution_count": null,
   "metadata": {
    "id": "CTBRNGi8jzt7"
   },
   "outputs": [],
   "source": [
    "# Creating dataset API\n"
   ]
  },
  {
   "cell_type": "code",
   "execution_count": null,
   "metadata": {
    "id": "PALz3fAajzt7"
   },
   "outputs": [],
   "source": [
    "# Set training parameters and train\n"
   ]
  },
  {
   "cell_type": "code",
   "execution_count": null,
   "metadata": {
    "id": "R0ugXtkjjzt7"
   },
   "outputs": [],
   "source": []
  }
 ],
 "metadata": {
  "colab": {
   "provenance": []
  },
  "kernelspec": {
   "display_name": "Python 3 (ipykernel)",
   "language": "python",
   "name": "python3"
  },
  "language_info": {
   "codemirror_mode": {
    "name": "ipython",
    "version": 3
   },
   "file_extension": ".py",
   "mimetype": "text/x-python",
   "name": "python",
   "nbconvert_exporter": "python",
   "pygments_lexer": "ipython3",
   "version": "3.11.4"
  }
 },
 "nbformat": 4,
 "nbformat_minor": 4
}
