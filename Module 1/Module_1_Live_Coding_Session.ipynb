{
  "cells": [
    {
      "cell_type": "markdown",
      "metadata": {},
      "source": [
        "[![open in Colab](https://colab.research.google.com/assets/colab-badge.svg)](https://colab.research.google.com/github/UVA-DS-6050/DS6050---FA24/blob/main/live_sessions/module-1/Module_1_Live_Coding_Session.ipynb)"
      ]
    },
    {
      "cell_type": "markdown",
      "metadata": {
        "id": "pTE9UCelQqko"
      },
      "source": [
        "# Introduction\n",
        "\n",
        "In this session, we will explore different tensor operations using a dummy dataset. We will look at the different API in tensorflow and keras to build some familiarity with using them.\n",
        "\n"
      ]
    },
    {
      "cell_type": "markdown",
      "metadata": {
        "id": "AH8d2_eAQ_4H"
      },
      "source": [
        "### Step 1: Configure the environment\n",
        "- Installing and loading required modules\n"
      ]
    },
    {
      "cell_type": "code",
      "execution_count": 2,
      "metadata": {},
      "outputs": [],
      "source": [
        "# !pip install keras\n",
        "# !pip install tensorflow\n",
        "import numpy as np\n",
        "import tensorflow as tf\n",
        "import keras"
      ]
    },
    {
      "cell_type": "code",
      "execution_count": 29,
      "metadata": {},
      "outputs": [
        {
          "name": "stdout",
          "output_type": "stream",
          "text": [
            "Python 3.11.8\n",
            "2.16.1\n",
            "3.0.5\n"
          ]
        }
      ],
      "source": [
        "!python --version\n",
        "print(tf.__version__)\n",
        "print(keras.__version__)"
      ]
    },
    {
      "cell_type": "markdown",
      "metadata": {},
      "source": [
        "### Step 2: Load Dataset"
      ]
    },
    {
      "cell_type": "code",
      "execution_count": 31,
      "metadata": {
        "id": "YdSygw7fcHRW"
      },
      "outputs": [
        {
          "name": "stdout",
          "output_type": "stream",
          "text": [
            "Downloading data from https://storage.googleapis.com/tensorflow/tf-keras-datasets/mnist.npz\n",
            "\u001b[1m11490434/11490434\u001b[0m \u001b[32m━━━━━━━━━━━━━━━━━━━━\u001b[0m\u001b[37m\u001b[0m \u001b[1m3s\u001b[0m 0us/step\n"
          ]
        }
      ],
      "source": [
        "from keras.datasets import mnist\n",
        "\n",
        "(X_train, Y_train), (X_test, Y_test) = mnist.load_data()"
      ]
    },
    {
      "cell_type": "code",
      "execution_count": 35,
      "metadata": {
        "id": "srXYTJgFH4Wj"
      },
      "outputs": [
        {
          "name": "stdout",
          "output_type": "stream",
          "text": [
            "(60000, 28, 28)\n",
            "(10000, 28, 28)\n",
            "[5 0 4 ... 5 6 8]\n"
          ]
        }
      ],
      "source": [
        "# Explore data\n",
        "print(X_train.shape)\n",
        "print(X_test.shape)\n",
        "\n",
        "print(Y_train)"
      ]
    },
    {
      "cell_type": "markdown",
      "metadata": {},
      "source": [
        "### Tensors\n",
        "Tensorflow operates on multidimensional arrays or tensors represented as tf.Tensor objects. All tensors are immutable like Python numbers and strings i.e. you cannot update the contents of a tensor, you can only create a new one. Here's an example of a two-dimensional tensor:"
      ]
    },
    {
      "cell_type": "code",
      "execution_count": 44,
      "metadata": {},
      "outputs": [
        {
          "data": {
            "text/plain": [
              "TensorShape([])"
            ]
          },
          "execution_count": 44,
          "metadata": {},
          "output_type": "execute_result"
        }
      ],
      "source": [
        "# Create a zero-rank tensor\n",
        "tf.constant(3.0) # .shape"
      ]
    },
    {
      "cell_type": "code",
      "execution_count": 55,
      "metadata": {},
      "outputs": [
        {
          "data": {
            "text/plain": [
              "1"
            ]
          },
          "execution_count": 55,
          "metadata": {},
          "output_type": "execute_result"
        }
      ],
      "source": [
        "# Create a 1-rank tensor\n",
        "tf.constant([1.0, 2.0, 3.0]).ndim # .shape"
      ]
    },
    {
      "cell_type": "code",
      "execution_count": 54,
      "metadata": {},
      "outputs": [
        {
          "data": {
            "text/plain": [
              "<tf.Tensor: shape=(3, 4), dtype=float32, numpy=\n",
              "array([[0., 0., 0., 0.],\n",
              "       [0., 0., 0., 0.],\n",
              "       [0., 0., 0., 0.]], dtype=float32)>"
            ]
          },
          "execution_count": 54,
          "metadata": {},
          "output_type": "execute_result"
        }
      ],
      "source": [
        "# Create a 2-rank tensor\n",
        "# tf.ones((3, 3))\n",
        "tf.zeros((3, 4))"
      ]
    },
    {
      "cell_type": "code",
      "execution_count": 5,
      "metadata": {},
      "outputs": [
        {
          "name": "stdout",
          "output_type": "stream",
          "text": [
            "tf.Tensor(\n",
            "[[1. 2. 3.]\n",
            " [4. 5. 6.]], shape=(2, 3), dtype=float64)\n",
            "(2, 3)\n",
            "<dtype: 'float64'>\n"
          ]
        }
      ],
      "source": [
        "# Create a tensor object with random numbers and print shape and data type\n",
        "x = tf.constant([[1., 2., 3.],\n",
        "                 [4., 5., 6.]], dtype=tf.float64)\n",
        "\n",
        "print(x) \n",
        "print(x.shape) # tells you the size of the tensor along each of it axes\n",
        "print(x.dtype) # tells you the type of all the elements in the tensor"
      ]
    },
    {
      "cell_type": "code",
      "execution_count": 6,
      "metadata": {},
      "outputs": [
        {
          "ename": "TypeError",
          "evalue": "'tensorflow.python.framework.ops.EagerTensor' object does not support item assignment",
          "output_type": "error",
          "traceback": [
            "\u001b[1;31m---------------------------------------------------------------------------\u001b[0m",
            "\u001b[1;31mTypeError\u001b[0m                                 Traceback (most recent call last)",
            "Cell \u001b[1;32mIn[6], line 1\u001b[0m\n\u001b[1;32m----> 1\u001b[0m \u001b[43mx\u001b[49m\u001b[43m[\u001b[49m\u001b[38;5;241;43m0\u001b[39;49m\u001b[43m]\u001b[49m \u001b[38;5;241m=\u001b[39m tf\u001b[38;5;241m.\u001b[39mconstant([\u001b[38;5;241m6.\u001b[39m, \u001b[38;5;241m5.\u001b[39m, \u001b[38;5;241m4.\u001b[39m])\n\u001b[0;32m      2\u001b[0m x\n",
            "\u001b[1;31mTypeError\u001b[0m: 'tensorflow.python.framework.ops.EagerTensor' object does not support item assignment"
          ]
        }
      ],
      "source": [
        "x[0] = tf.constant([6., 5., 4.])\n",
        "x"
      ]
    },
    {
      "cell_type": "markdown",
      "metadata": {},
      "source": [
        "![Scala, Vector and Matrices](simple-tensors.png)"
      ]
    },
    {
      "cell_type": "markdown",
      "metadata": {},
      "source": [
        "![3-axis-tensorf](3-axis-tensor.png)"
      ]
    },
    {
      "cell_type": "markdown",
      "metadata": {},
      "source": [
        "#### String Tensors\n",
        "Tensorflow string is a dtype, which represents data as strings. String tensors are atomic and cannot be indexed the way Python strings are. The length of the string is not one of the axes of the tensor."
      ]
    },
    {
      "cell_type": "code",
      "execution_count": 56,
      "metadata": {},
      "outputs": [
        {
          "name": "stdout",
          "output_type": "stream",
          "text": [
            "tf.Tensor(b'data science', shape=(), dtype=string)\n"
          ]
        }
      ],
      "source": [
        "# Scalar string tensor\n",
        "string_tensor = tf.constant(\"data science\")\n",
        "print(string_tensor)"
      ]
    },
    {
      "cell_type": "code",
      "execution_count": 57,
      "metadata": {},
      "outputs": [
        {
          "name": "stdout",
          "output_type": "stream",
          "text": [
            "tf.Tensor([b'Gray wolf' b'Quick brown fox' b'lazy dog'], shape=(3,), dtype=string)\n"
          ]
        }
      ],
      "source": [
        "# Vector string\n",
        "tensor_of_strings = tf.constant([\"Gray wolf\",\n",
        "                                 \"Quick brown fox\",\n",
        "                                 \"lazy dog\"])\n",
        "print(tensor_of_strings)"
      ]
    },
    {
      "cell_type": "markdown",
      "metadata": {},
      "source": [
        "### Basic Tensor Operations\n",
        "Tensorflow implements mathematical operations on tensors, as well as many operations specialized for machine learning and deep learning. See examples below:"
      ]
    },
    {
      "cell_type": "code",
      "execution_count": 7,
      "metadata": {},
      "outputs": [
        {
          "data": {
            "text/plain": [
              "<tf.Tensor: shape=(2, 3), dtype=float64, numpy=\n",
              "array([[ 2.,  4.,  6.],\n",
              "       [ 8., 10., 12.]])>"
            ]
          },
          "execution_count": 7,
          "metadata": {},
          "output_type": "execute_result"
        }
      ],
      "source": [
        "# element-wise addition of two tensors\n",
        "x + x"
      ]
    },
    {
      "cell_type": "code",
      "execution_count": 8,
      "metadata": {},
      "outputs": [
        {
          "data": {
            "text/plain": [
              "<tf.Tensor: shape=(2, 3), dtype=float64, numpy=\n",
              "array([[ 6.,  7.,  8.],\n",
              "       [ 9., 10., 11.]])>"
            ]
          },
          "execution_count": 8,
          "metadata": {},
          "output_type": "execute_result"
        }
      ],
      "source": [
        "# adding tensors to constant - broadcasting\n",
        "5 + x"
      ]
    },
    {
      "cell_type": "code",
      "execution_count": 16,
      "metadata": {},
      "outputs": [
        {
          "name": "stdout",
          "output_type": "stream",
          "text": [
            "tf.Tensor(\n",
            "[[ 2.  4.  6.]\n",
            " [ 8. 10. 12.]], shape=(2, 3), dtype=float64) \n",
            "\n",
            "tf.Tensor(\n",
            "[[ 1.  4.  9.]\n",
            " [16. 25. 36.]], shape=(2, 3), dtype=float64) \n",
            "\n",
            "tf.Tensor(\n",
            "[[14. 32.]\n",
            " [32. 77.]], shape=(2, 2), dtype=float64) \n",
            "0\n"
          ]
        }
      ],
      "source": [
        "print(tf.add(x, x), '\\n')\n",
        "\n",
        "# element wise multiplication\n",
        "print(tf.multiply(x, x), '\\n')\n",
        "\n",
        "# matrix multiplication\n",
        "print(tf.matmul(x, tf.transpose(x)), '\\n0') # Incompatible dimension 2x3 * 2x3"
      ]
    },
    {
      "cell_type": "code",
      "execution_count": 41,
      "metadata": {},
      "outputs": [
        {
          "data": {
            "text/plain": [
              "<tf.Tensor: shape=(2, 2), dtype=float64, numpy=\n",
              "array([[14., 32.],\n",
              "       [32., 77.]])>"
            ]
          },
          "execution_count": 41,
          "metadata": {},
          "output_type": "execute_result"
        }
      ],
      "source": [
        "# matrix multiplication with transpose [2 x 3] * [3 x 2]\n",
        "x @ tf.transpose(x)"
      ]
    },
    {
      "cell_type": "code",
      "execution_count": 52,
      "metadata": {},
      "outputs": [
        {
          "data": {
            "text/plain": [
              "<tf.Tensor: shape=(6, 3), dtype=float64, numpy=\n",
              "array([[1., 2., 3.],\n",
              "       [4., 5., 6.],\n",
              "       [1., 2., 3.],\n",
              "       [4., 5., 6.],\n",
              "       [1., 2., 3.],\n",
              "       [4., 5., 6.]])>"
            ]
          },
          "execution_count": 52,
          "metadata": {},
          "output_type": "execute_result"
        }
      ],
      "source": [
        "# Concatenating list of tensors\n",
        "tf.concat([x, x, x], axis=0)"
      ]
    },
    {
      "cell_type": "code",
      "execution_count": 61,
      "metadata": {},
      "outputs": [
        {
          "data": {
            "text/plain": [
              "<tf.Tensor: shape=(2, 3), dtype=float64, numpy=\n",
              "array([[0.09003057, 0.24472847, 0.66524096],\n",
              "       [0.09003057, 0.24472847, 0.66524096]])>"
            ]
          },
          "execution_count": 61,
          "metadata": {},
          "output_type": "execute_result"
        }
      ],
      "source": [
        "# Apply exponential normalization (softmax activation) along an axis\n",
        "tf.nn.softmax(x, axis=1)"
      ]
    },
    {
      "cell_type": "code",
      "execution_count": 19,
      "metadata": {},
      "outputs": [
        {
          "name": "stdout",
          "output_type": "stream",
          "text": [
            "tf.Tensor([2 2], shape=(2,), dtype=int64)\n"
          ]
        }
      ],
      "source": [
        "# Sum up all elements of the tensor or along an axis - applicable in Maxpool\n",
        "tf.reduce_sum(x, axis=1)\n",
        "tf.reduce_max(x, axis=0)\n",
        "tf.reduce_prod(x)\n",
        "print(tf.math.argmax(x, axis=1))"
      ]
    },
    {
      "cell_type": "markdown",
      "metadata": {},
      "source": [
        "Anywhere tensorflow function expects a Tensor as input, the function will also accept anything that can be converted to a Tensor using tf.convert_to_tensor."
      ]
    },
    {
      "cell_type": "code",
      "execution_count": 72,
      "metadata": {},
      "outputs": [
        {
          "data": {
            "text/plain": [
              "<tf.Tensor: shape=(3,), dtype=int32, numpy=array([1, 2, 3])>"
            ]
          },
          "execution_count": 72,
          "metadata": {},
          "output_type": "execute_result"
        }
      ],
      "source": [
        "# Convert a list object to tensor\n",
        "tf.convert_to_tensor([1,2,3])"
      ]
    },
    {
      "cell_type": "markdown",
      "metadata": {},
      "source": [
        "This can also be done automatically with tensor operations"
      ]
    },
    {
      "cell_type": "code",
      "execution_count": 74,
      "metadata": {},
      "outputs": [
        {
          "data": {
            "text/plain": [
              "<tf.Tensor: shape=(), dtype=int32, numpy=6>"
            ]
          },
          "execution_count": 74,
          "metadata": {},
          "output_type": "execute_result"
        }
      ],
      "source": [
        "tf.reduce_sum([1,2,3])"
      ]
    },
    {
      "cell_type": "markdown",
      "metadata": {},
      "source": [
        "Running large calculations on CPU can be slow. Tensorflow can use accelerator hardware like GPUs to execute operations very quickly"
      ]
    },
    {
      "cell_type": "code",
      "execution_count": 75,
      "metadata": {},
      "outputs": [
        {
          "data": {
            "text/plain": [
              "[PhysicalDevice(name='/physical_device:CPU:0', device_type='CPU')]"
            ]
          },
          "execution_count": 75,
          "metadata": {},
          "output_type": "execute_result"
        }
      ],
      "source": [
        "if tf.config.list_physical_devices('GPU'):\n",
        "    print(\"Tensorflow **IS** using GPU\")\n",
        "else:\n",
        "    print(\"Tensorflow is Not using GPU\")"
      ]
    },
    {
      "cell_type": "markdown",
      "metadata": {},
      "source": [
        "#### Variables\n",
        "Normal tf.Tensor objects are immutable. To store model weights or other mutable states in Tensorflow use a tf.Variable"
      ]
    },
    {
      "cell_type": "code",
      "execution_count": 21,
      "metadata": {},
      "outputs": [
        {
          "data": {
            "text/plain": [
              "<tf.Variable 'Variable:0' shape=(4,) dtype=float32, numpy=array([0., 0., 0., 0.], dtype=float32)>"
            ]
          },
          "execution_count": 21,
          "metadata": {},
          "output_type": "execute_result"
        }
      ],
      "source": [
        "# Initialize a variable state\n",
        "var_x = tf.Variable([0.0, 0.0, 0.0, 0.0])\n",
        "var_x"
      ]
    },
    {
      "cell_type": "code",
      "execution_count": 24,
      "metadata": {},
      "outputs": [
        {
          "data": {
            "text/plain": [
              "<tf.Variable 'UnreadVariable' shape=(4,) dtype=float32, numpy=array([1., 2., 3., 4.], dtype=float32)>"
            ]
          },
          "execution_count": 24,
          "metadata": {},
          "output_type": "execute_result"
        }
      ],
      "source": [
        "# Assign new value to the variable\n",
        "var_x.assign([1, 2, 3, 4])"
      ]
    },
    {
      "cell_type": "code",
      "execution_count": 98,
      "metadata": {},
      "outputs": [
        {
          "data": {
            "text/plain": [
              "<tf.Variable 'UnreadVariable' shape=(4,) dtype=float32, numpy=array([2., 3., 4., 5.], dtype=float32)>"
            ]
          },
          "execution_count": 98,
          "metadata": {},
          "output_type": "execute_result"
        }
      ],
      "source": [
        "# Update variable\n",
        "var_x.assign_add([1, 1, 1, 1])"
      ]
    },
    {
      "cell_type": "markdown",
      "metadata": {},
      "source": [
        "#### Automatic Differentiation\n",
        "\n",
        "Gradient descent and related algorithms are a core of deep learning and modern machine learning.\n",
        "To enable this, Tensorflow implements automatic differentiation (autodiff), which uses calculus to compute gradients. Typically you'll use this to calculate the gradient of a model's error or loss with respect to it"
      ]
    },
    {
      "cell_type": "code",
      "execution_count": 113,
      "metadata": {},
      "outputs": [
        {
          "data": {
            "text/plain": [
              "<tf.Tensor: shape=(4,), dtype=float32, numpy=array([-2.,  3., 10., 19.], dtype=float32)>"
            ]
          },
          "execution_count": 113,
          "metadata": {},
          "output_type": "execute_result"
        }
      ],
      "source": [
        "# Evaluating a function on a tensor\n",
        "def f(x):\n",
        "    y = x**2 + 2*x - 5\n",
        "    return y\n",
        "\n",
        "f(var_x)"
      ]
    },
    {
      "cell_type": "markdown",
      "metadata": {},
      "source": [
        "The derivative of the function $f(x)$ is $f'(x) = (2*x + 2) = 4$ Tensorflow can calculate this automatically"
      ]
    },
    {
      "cell_type": "code",
      "execution_count": 26,
      "metadata": {},
      "outputs": [
        {
          "data": {
            "text/plain": [
              "<tf.Tensor: shape=(4,), dtype=float32, numpy=array([2., 4., 6., 8.], dtype=float32)>"
            ]
          },
          "execution_count": 26,
          "metadata": {},
          "output_type": "execute_result"
        }
      ],
      "source": [
        "x = var_x # tf.Variable(3.0)\n",
        "\n",
        "with tf.GradientTape() as tape:\n",
        "    y = x**2\n",
        "\n",
        "grad_x  = tape.gradient(y, x)\n",
        "grad_x#.numpy()"
      ]
    },
    {
      "cell_type": "markdown",
      "metadata": {},
      "source": [
        "### Modules, Layers and models\n",
        "Though for the most of this course, we will be using the keras modules, here we will explore the Tensorflow module tf.Module class and tf.function for managing and operating on variable objects. The tf.Module supports two significant features:\n",
        "\n",
        "1. Saving and restoring the values of your variables using tf.train.Checkpoint. This is useful during training as it is quick to save and restore a model's state.\n",
        "2. Importing and exporting the tf.Variable values and the function (tf.function) graphs using tf.saved_model. This allows us to run model independently of the Python program that created it."
      ]
    },
    {
      "cell_type": "code",
      "execution_count": 35,
      "metadata": {},
      "outputs": [],
      "source": [
        "weights = tf.Variable(tf.random.normal((3, 2)), name='weights') # input dim = 3, output dim = 3\n",
        "bias = tf.Variable(tf.zeros(2, dtype=tf.float32), name='bias') # same as output dim\n",
        "x = [[1., 2., 3.]]"
      ]
    },
    {
      "cell_type": "code",
      "execution_count": 37,
      "metadata": {},
      "outputs": [
        {
          "data": {
            "text/plain": [
              "<tf.Tensor: shape=(), dtype=float32, numpy=11.238832>"
            ]
          },
          "execution_count": 37,
          "metadata": {},
          "output_type": "execute_result"
        }
      ],
      "source": [
        "with tf.GradientTape(persistent=True) as tape:\n",
        "    y = x @ weights + bias # Forward pass\n",
        "    loss = tf.reduce_mean(y**2)\n",
        "\n",
        "loss"
      ]
    },
    {
      "cell_type": "markdown",
      "metadata": {},
      "source": [
        "To get the gradient of loss wrt both variables (weights and bias), we can pass both as sources to the gradient method."
      ]
    },
    {
      "cell_type": "code",
      "execution_count": 41,
      "metadata": {},
      "outputs": [
        {
          "name": "stdout",
          "output_type": "stream",
          "text": [
            "tf.Tensor(\n",
            "[[  3.3295627  -3.375156 ]\n",
            " [  6.6591253  -6.750312 ]\n",
            " [  9.9886875 -10.125467 ]], shape=(3, 2), dtype=float32)\n",
            "tf.Tensor([ 3.3295627 -3.375156 ], shape=(2,), dtype=float32)\n"
          ]
        }
      ],
      "source": [
        "[dl_w, dl_b] = tape.gradient(loss, [weights, bias])\n",
        "print(dl_w)\n",
        "print(dl_b)"
      ]
    },
    {
      "cell_type": "markdown",
      "metadata": {},
      "source": [
        "The gradient wrt to each source variable has the same shape as the source variable"
      ]
    },
    {
      "cell_type": "markdown",
      "metadata": {},
      "source": [
        "The tape is flexible on how sources are passed and can accept any nested combination of lists or dictionaries and return grandient structured the same way. We can also pass a dictionary of variables:"
      ]
    },
    {
      "cell_type": "code",
      "execution_count": 42,
      "metadata": {},
      "outputs": [
        {
          "data": {
            "text/plain": [
              "{'w': <tf.Tensor: shape=(3, 2), dtype=float32, numpy=\n",
              " array([[  3.3295627,  -3.375156 ],\n",
              "        [  6.6591253,  -6.750312 ],\n",
              "        [  9.9886875, -10.125467 ]], dtype=float32)>,\n",
              " 'b': <tf.Tensor: shape=(2,), dtype=float32, numpy=array([ 3.3295627, -3.375156 ], dtype=float32)>}"
            ]
          },
          "execution_count": 42,
          "metadata": {},
          "output_type": "execute_result"
        }
      ],
      "source": [
        "my_variables = {\"w\": weights,\n",
        "             \"b\": bias}\n",
        "\n",
        "grad = tape.gradient(loss, my_variables)\n",
        "grad"
      ]
    },
    {
      "cell_type": "markdown",
      "metadata": {},
      "source": [
        "Creating a Module"
      ]
    },
    {
      "cell_type": "code",
      "execution_count": 61,
      "metadata": {},
      "outputs": [
        {
          "data": {
            "text/plain": [
              "<tf.Tensor: shape=(3,), dtype=int32, numpy=array([ 8, 16, 24])>"
            ]
          },
          "execution_count": 61,
          "metadata": {},
          "output_type": "execute_result"
        }
      ],
      "source": [
        "class testModule(tf.Module):\n",
        "    def __init__(self, value):\n",
        "        self.weight = tf.Variable(value)\n",
        "    \n",
        "    @tf.function\n",
        "    def multiply(self, x):\n",
        "        return x * self.weight\n",
        "    \n",
        "mod = testModule(4)\n",
        "mod.multiply(tf.constant([2, 4, 6]))"
      ]
    },
    {
      "cell_type": "markdown",
      "metadata": {},
      "source": [
        "Save the Module"
      ]
    },
    {
      "cell_type": "code",
      "execution_count": 62,
      "metadata": {},
      "outputs": [
        {
          "name": "stdout",
          "output_type": "stream",
          "text": [
            "INFO:tensorflow:Assets written to: ./savedModule\\assets\n"
          ]
        },
        {
          "name": "stderr",
          "output_type": "stream",
          "text": [
            "INFO:tensorflow:Assets written to: ./savedModule\\assets\n"
          ]
        }
      ],
      "source": [
        "path = \"./savedModule\"\n",
        "tf.saved_model.save(mod, path)"
      ]
    },
    {
      "cell_type": "markdown",
      "metadata": {},
      "source": [
        "Reload saved model"
      ]
    },
    {
      "cell_type": "code",
      "execution_count": 63,
      "metadata": {},
      "outputs": [
        {
          "data": {
            "text/plain": [
              "<tf.Tensor: shape=(3,), dtype=int32, numpy=array([ 4,  8, 12])>"
            ]
          },
          "execution_count": 63,
          "metadata": {},
          "output_type": "execute_result"
        }
      ],
      "source": [
        "reloaded_module = tf.saved_model.load(path)\n",
        "reloaded_module.multiply(tf.constant([1,2,3]))"
      ]
    },
    {
      "cell_type": "markdown",
      "metadata": {},
      "source": [
        "The keras wrapper modules tf.keras.layers.Layer and tf.keras.Module classes build on tf.Module providing additional functionality and convenience methods for buillding, training and saving models."
      ]
    },
    {
      "cell_type": "code",
      "execution_count": 67,
      "metadata": {},
      "outputs": [],
      "source": [
        "# Define a single layer model\n",
        "class Model(tf.Module):\n",
        "    def __init__(self):\n",
        "        # Randomly initialize weights and bias terms\n",
        "        rand_init = tf.random.uniform(shape=[3], minval=0., maxval=5., seed=10)\n",
        "        self.w_q = tf.Variable(rand_init[0])\n",
        "        self.w_l = tf.Variable(rand_init[1])\n",
        "        self.b = tf.Variable(rand_init[2])\n",
        "    \n",
        "    @tf.function\n",
        "    def __call__(self, x):\n",
        "        # Define a quadratic Model\n",
        "        return self.w_q* (x**2) + self.w_l * x + self.b\n",
        "    \n",
        "quad_model = Model()\n"
      ]
    },
    {
      "cell_type": "code",
      "execution_count": 71,
      "metadata": {},
      "outputs": [],
      "source": [
        "# Define a loss\n",
        "def mse_loss(y_pred, y):\n",
        "  return tf.reduce_mean(tf.square(y_pred - y))"
      ]
    },
    {
      "cell_type": "markdown",
      "metadata": {},
      "source": [
        "Define a basic training loop for the model. The loop makes use of MSE loss function and its gradients wrt the input in order to iteratively update the models parameters. The tf.data.Dataset API provides useful function for batching and shuffling."
      ]
    },
    {
      "cell_type": "code",
      "execution_count": 77,
      "metadata": {},
      "outputs": [
        {
          "data": {
            "text/plain": [
              "<matplotlib.legend.Legend at 0x24a1c7bd390>"
            ]
          },
          "execution_count": 77,
          "metadata": {},
          "output_type": "execute_result"
        },
        {
          "data": {
            "image/png": "[encoded data removed]",
            "text/plain": [
              "<Figure size 900x600 with 1 Axes>"
            ]
          },
          "metadata": {},
          "output_type": "display_data"
        }
      ],
      "source": [
        "x = tf.linspace(-2, 2, 201)\n",
        "x = tf.cast(x, tf.float32)\n",
        "\n",
        "def f(x):\n",
        "  y = x**2 + 2*x - 5\n",
        "  return y\n",
        "\n",
        "y = f(x) + tf.random.normal(shape=[201])\n",
        "\n",
        "import matplotlib\n",
        "from matplotlib import pyplot as plt\n",
        "\n",
        "matplotlib.rcParams['figure.figsize'] = [9, 6]\n",
        "\n",
        "plt.plot(x.numpy(), y.numpy(), '.', label='Data')\n",
        "plt.plot(x, f(x), label='Ground truth')\n",
        "plt.legend()"
      ]
    },
    {
      "cell_type": "code",
      "execution_count": 73,
      "metadata": {},
      "outputs": [],
      "source": [
        "batch_size = 32\n",
        "dataset = tf.data.Dataset.from_tensor_slices((x, y))\n",
        "dataset = dataset.shuffle(buffer_size=x.shape[0]).batch(batch_size)"
      ]
    },
    {
      "cell_type": "code",
      "execution_count": 78,
      "metadata": {},
      "outputs": [
        {
          "name": "stdout",
          "output_type": "stream",
          "text": [
            "Mean squared error for step 0: 1.136\n",
            "Mean squared error for step 10: 1.141\n",
            "Mean squared error for step 20: 1.135\n",
            "Mean squared error for step 30: 1.137\n",
            "Mean squared error for step 40: 1.139\n",
            "Mean squared error for step 50: 1.138\n",
            "Mean squared error for step 60: 1.135\n",
            "Mean squared error for step 70: 1.138\n",
            "Mean squared error for step 80: 1.136\n",
            "Mean squared error for step 90: 1.136\n",
            "\n",
            "\n"
          ]
        },
        {
          "data": {
            "image/png": "[encoded data removed]",
            "text/plain": [
              "<Figure size 900x600 with 1 Axes>"
            ]
          },
          "metadata": {},
          "output_type": "display_data"
        }
      ],
      "source": [
        "# Set training parameters\n",
        "epochs = 100\n",
        "learning_rate = 0.01\n",
        "losses = []\n",
        "\n",
        "# Format training loop\n",
        "for epoch in range(epochs):\n",
        "  for x_batch, y_batch in dataset:\n",
        "    with tf.GradientTape() as tape:\n",
        "      batch_loss = mse_loss(quad_model(x_batch), y_batch)\n",
        "    # Update parameters with respect to the gradient calculations\n",
        "    grads = tape.gradient(batch_loss, quad_model.variables)\n",
        "    for g,v in zip(grads, quad_model.variables):\n",
        "        v.assign_sub(learning_rate*g)\n",
        "  # Keep track of model loss per epoch\n",
        "  loss = mse_loss(quad_model(x), y)\n",
        "  losses.append(loss)\n",
        "  if epoch % 10 == 0:\n",
        "    print(f'Mean squared error for step {epoch}: {loss.numpy():0.3f}')\n",
        "\n",
        "# Plot model results\n",
        "print(\"\\n\")\n",
        "plt.plot(range(epochs), losses)\n",
        "plt.xlabel(\"Epoch\")\n",
        "plt.ylabel(\"Mean Squared Error (MSE)\")\n",
        "plt.title('MSE loss vs training iterations');"
      ]
    },
    {
      "cell_type": "code",
      "execution_count": null,
      "metadata": {},
      "outputs": [],
      "source": []
    }
  ],
  "metadata": {
    "colab": {
      "provenance": []
    },
    "kernelspec": {
      "display_name": "Python 3",
      "name": "python3"
    },
    "language_info": {
      "codemirror_mode": {
        "name": "ipython",
        "version": 3
      },
      "file_extension": ".py",
      "mimetype": "text/x-python",
      "name": "python",
      "nbconvert_exporter": "python",
      "pygments_lexer": "ipython3",
      "version": "3.11.8"
    }
  },
  "nbformat": 4,
  "nbformat_minor": 0
}
